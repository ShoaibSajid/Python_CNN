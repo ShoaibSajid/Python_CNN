{
  "cells": [
    {
      "cell_type": "code",
      "execution_count": 2,
      "metadata": {
        "colab": {
          "base_uri": "https://localhost:8080/"
        },
        "id": "cw04b-NnPF_e",
        "outputId": "0d4e6f66-4d27-4ad3-fd67-92cc2e32fc67"
      },
      "outputs": [
        {
          "name": "stdout",
          "output_type": "stream",
          "text": [
            "/home/gpuadmin\n",
            "Github Repo exist.\n",
            "/home/gpuadmin/Python_CNN\n",
            "Requirement already satisfied: tqdm in /home/gpuadmin/.local/lib/python3.8/site-packages (from -r requirements.txt (line 1)) (4.64.0)\n",
            "Requirement already satisfied: matplotlib in /home/gpuadmin/anaconda3/envs/python_cnn/lib/python3.8/site-packages (from -r requirements.txt (line 2)) (3.6.2)\n",
            "Requirement already satisfied: mnist==0.2.2 in /home/gpuadmin/.local/lib/python3.8/site-packages (from -r requirements.txt (line 3)) (0.2.2)\n",
            "Requirement already satisfied: numpy in /home/gpuadmin/.local/lib/python3.8/site-packages (from -r requirements.txt (line 4)) (1.23.5)\n",
            "Requirement already satisfied: packaging>=20.0 in /home/gpuadmin/.local/lib/python3.8/site-packages (from matplotlib->-r requirements.txt (line 2)) (21.3)\n",
            "Requirement already satisfied: pillow>=6.2.0 in /home/gpuadmin/anaconda3/envs/python_cnn/lib/python3.8/site-packages (from matplotlib->-r requirements.txt (line 2)) (9.3.0)\n",
            "Requirement already satisfied: pyparsing>=2.2.1 in /home/gpuadmin/anaconda3/envs/python_cnn/lib/python3.8/site-packages (from matplotlib->-r requirements.txt (line 2)) (3.0.9)\n",
            "Requirement already satisfied: kiwisolver>=1.0.1 in /home/gpuadmin/anaconda3/envs/python_cnn/lib/python3.8/site-packages (from matplotlib->-r requirements.txt (line 2)) (1.4.4)\n",
            "Requirement already satisfied: python-dateutil>=2.7 in /home/gpuadmin/.local/lib/python3.8/site-packages (from matplotlib->-r requirements.txt (line 2)) (2.8.2)\n",
            "Requirement already satisfied: fonttools>=4.22.0 in /home/gpuadmin/anaconda3/envs/python_cnn/lib/python3.8/site-packages (from matplotlib->-r requirements.txt (line 2)) (4.38.0)\n",
            "Requirement already satisfied: contourpy>=1.0.1 in /home/gpuadmin/anaconda3/envs/python_cnn/lib/python3.8/site-packages (from matplotlib->-r requirements.txt (line 2)) (1.0.6)\n",
            "Requirement already satisfied: cycler>=0.10 in /home/gpuadmin/anaconda3/envs/python_cnn/lib/python3.8/site-packages (from matplotlib->-r requirements.txt (line 2)) (0.11.0)\n",
            "Requirement already satisfied: six>=1.5 in /home/gpuadmin/anaconda3/envs/python_cnn/lib/python3.8/site-packages (from python-dateutil>=2.7->matplotlib->-r requirements.txt (line 2)) (1.16.0)\n",
            "Note: you may need to restart the kernel to use updated packages.\n",
            "Requirement already satisfied: keras==2.2.4 in /home/gpuadmin/anaconda3/envs/python_cnn/lib/python3.8/site-packages (2.2.4)\n",
            "Requirement already satisfied: numpy>=1.9.1 in /home/gpuadmin/.local/lib/python3.8/site-packages (from keras==2.2.4) (1.23.5)\n",
            "Requirement already satisfied: pyyaml in /home/gpuadmin/anaconda3/envs/python_cnn/lib/python3.8/site-packages (from keras==2.2.4) (6.0)\n",
            "Requirement already satisfied: scipy>=0.14 in /home/gpuadmin/.local/lib/python3.8/site-packages (from keras==2.2.4) (1.8.1)\n",
            "Requirement already satisfied: six>=1.9.0 in /home/gpuadmin/anaconda3/envs/python_cnn/lib/python3.8/site-packages (from keras==2.2.4) (1.16.0)\n",
            "Requirement already satisfied: h5py in /home/gpuadmin/.local/lib/python3.8/site-packages (from keras==2.2.4) (3.7.0)\n",
            "Requirement already satisfied: keras-preprocessing>=1.0.5 in /home/gpuadmin/.local/lib/python3.8/site-packages (from keras==2.2.4) (1.1.2)\n",
            "Requirement already satisfied: keras-applications>=1.0.6 in /home/gpuadmin/.local/lib/python3.8/site-packages (from keras==2.2.4) (1.0.8)\n",
            "Note: you may need to restart the kernel to use updated packages.\n",
            "\n",
            "List of files\n",
            "cnn_keras.py\t\t\t  conv.py\t      python_cnn.py\n",
            "cnn.py\t\t\t\t  data.csv\t      README.md\n",
            "CNN_Python_CIFAR.ipynb\t\t  fc.py\t\t      relu.py\n",
            "CNN_Python.ipynb\t\t  filters.npy\t      requirements.txt\n",
            "CNN_Python_MNIST_and_CIFAR.ipynb  LICENSE\t      soft_fc.py\n",
            "CNN_Torch.ipynb\t\t\t  linear_biases.npy   softmax.py\n",
            "cnn_torch.py\t\t\t  linear_filters.npy  softmax_test.py\n",
            "conv_filters_3d.npy\t\t  maxpool.py\t      weights\n",
            "conv_filters.npy\t\t  __pycache__\n"
          ]
        }
      ],
      "source": [
        "%cd ~\n",
        "![ ! -d \"./Python_CNN\" ] && echo \"Github Repo DOES NOT exists.\"\n",
        "![ ! -d \"./Python_CNN\" ] && git clone https://github.com/ShoaibSajid/Python_CNN\n",
        "![ -d \"./Python_CNN\" ] && echo \"Github Repo exist.\"\n",
        "%cd Python_CNN\n",
        "%pip install -r requirements.txt\n",
        "# %pip install tensorflow==2.10.0\n",
        "%pip install keras==2.2.4\n",
        "!echo \n",
        "!echo List of files\n",
        "!ls"
      ]
    },
    {
      "cell_type": "code",
      "execution_count": 1,
      "metadata": {
        "id": "I-725DWZTpo6"
      },
      "outputs": [],
      "source": [
        "# Importing libraries\n",
        "\n",
        "from logging import raiseExceptions\n",
        "import os\n",
        "import pickle\n",
        "from tqdm import tqdm\n",
        "import numpy as np\n",
        "from matplotlib import pyplot"
      ]
    },
    {
      "cell_type": "code",
      "execution_count": 2,
      "metadata": {
        "id": "fY2ErHnRw3Fx"
      },
      "outputs": [],
      "source": [
        "# Importing network layers\n",
        "\n",
        "from conv import Conv3x3, Conv3x3_n_to_n_padding, Conv3x3_1_to_n_padding\n",
        "from maxpool import MaxPool2\n",
        "from softmax import Softmax\n",
        "from relu import Relu\n",
        "from softmax_test import Softmax_test\n",
        "from fc import FC"
      ]
    },
    {
      "cell_type": "code",
      "execution_count": 3,
      "metadata": {
        "id": "WmaKrncdvj8Z"
      },
      "outputs": [
        {
          "name": "stderr",
          "output_type": "stream",
          "text": [
            "Using TensorFlow backend.\n",
            "2022-12-08 12:12:29.129614: I tensorflow/core/platform/cpu_feature_guard.cc:193] This TensorFlow binary is optimized with oneAPI Deep Neural Network Library (oneDNN) to use the following CPU instructions in performance-critical operations:  AVX2 AVX512F AVX512_VNNI FMA\n",
            "To enable them in other operations, rebuild TensorFlow with the appropriate compiler flags.\n",
            "2022-12-08 12:12:29.344125: I tensorflow/core/util/port.cc:104] oneDNN custom operations are on. You may see slightly different numerical results due to floating-point round-off errors from different computation orders. To turn them off, set the environment variable `TF_ENABLE_ONEDNN_OPTS=0`.\n",
            "2022-12-08 12:12:30.268260: W tensorflow/compiler/xla/stream_executor/platform/default/dso_loader.cc:64] Could not load dynamic library 'libnvinfer.so.7'; dlerror: libnvinfer.so.7: cannot open shared object file: No such file or directory\n",
            "2022-12-08 12:12:30.268342: W tensorflow/compiler/xla/stream_executor/platform/default/dso_loader.cc:64] Could not load dynamic library 'libnvinfer_plugin.so.7'; dlerror: libnvinfer_plugin.so.7: cannot open shared object file: No such file or directory\n",
            "2022-12-08 12:12:30.268349: W tensorflow/compiler/tf2tensorrt/utils/py_utils.cc:38] TF-TRT Warning: Cannot dlopen some TensorRT libraries. If you would like to use Nvidia GPU with TensorRT, please make sure the missing libraries mentioned above are installed properly.\n"
          ]
        }
      ],
      "source": [
        "# Importing Dataset\n",
        "\n",
        "import mnist\n",
        "from keras.datasets import cifar10\n",
        "from keras.utils import to_categorical"
      ]
    },
    {
      "cell_type": "code",
      "execution_count": 4,
      "metadata": {
        "colab": {
          "base_uri": "https://localhost:8080/"
        },
        "id": "mWtCpadIv7-8",
        "outputId": "56f1c85c-446f-4873-f19b-0df0272a3b00"
      },
      "outputs": [
        {
          "name": "stdout",
          "output_type": "stream",
          "text": [
            "Train: X=(50000, 32, 32, 3), y=(50000, 1)\n",
            "Test: X=(10000, 32, 32, 3), y=(10000, 1)\n"
          ]
        }
      ],
      "source": [
        "# Defining Dataset\n",
        "\n",
        "# Dataset=\"MNIST\" #\"CIFAR\" #\"MNIST\"\n",
        "Dataset=\"CIFAR\" #\"CIFAR\" #\"MNIST\"\n",
        "\n",
        "if Dataset==\"MNIST\":\n",
        "  # ====================== MNIST =============================\n",
        "  # Importing the training dataset - MNIST Dataset\n",
        "  train_images = mnist.train_images()\n",
        "  train_labels = mnist.train_labels()\n",
        "  test_images = mnist.test_images()\n",
        "  test_labels = mnist.test_labels()\n",
        "  # Shuffle Data\n",
        "  permutation = np.random.permutation(len(train_images))\n",
        "  train_images = train_images[permutation]\n",
        "  train_labels = train_labels[permutation]\n",
        "  print(f'Train: {train_images.shape} images and {train_labels.shape} labels.')\n",
        "  print(f'Test : {test_images.shape } images and {test_labels.shape } labels.')\n",
        "\n",
        "elif Dataset==\"CIFAR\":\n",
        "  # ====================== CIFAR10 ===========================\n",
        "  (train_images, train_labels), (test_images, test_labels) = cifar10.load_data()\n",
        "  print('Train: X=%s, y=%s' % (train_images.shape, train_labels.shape))\n",
        "  print('Test: X=%s, y=%s' % (test_images.shape, test_labels.shape))"
      ]
    },
    {
      "cell_type": "code",
      "execution_count": 5,
      "metadata": {
        "id": "7ufjETAUyczt"
      },
      "outputs": [],
      "source": [
        "limit_data=False\n",
        "data_len=100\n",
        "if limit_data:\n",
        "  train_images = train_images[:data_len]\n",
        "  train_labels = train_labels[:data_len]\n",
        "  test_images  = test_images[:int(data_len/10)]\n",
        "  test_labels  = test_labels[:int(data_len/10)]"
      ]
    },
    {
      "cell_type": "code",
      "execution_count": 6,
      "metadata": {
        "colab": {
          "base_uri": "https://localhost:8080/",
          "height": 607
        },
        "id": "Ak65-Qi4z1n1",
        "outputId": "0fe81335-aee8-4685-b2e3-602a388bffdd"
      },
      "outputs": [
        {
          "data": {
            "image/png": "[encoded data removed]",
            "text/plain": [
              "<Figure size 1000x1000 with 9 Axes>"
            ]
          },
          "metadata": {},
          "output_type": "display_data"
        }
      ],
      "source": [
        "# Plot a few images\n",
        "pyplot.figure(figsize=(10,10))\n",
        "for i in range(9):\n",
        "  pyplot.subplot(330 + 1 + i)\n",
        "  pyplot.imshow(train_images[i])\n",
        "  pyplot.title(f'Class:{train_labels[i]}')\n",
        "pyplot.show()\n",
        "\n",
        "\n",
        "use_one_hot_encoding=False\n",
        "if use_one_hot_encoding:\n",
        "  train_labels = to_categorical(train_labels)\n",
        "  test_labels = to_categorical(test_labels)"
      ]
    },
    {
      "cell_type": "code",
      "execution_count": 7,
      "metadata": {
        "id": "oidgGH5PVVWS"
      },
      "outputs": [],
      "source": [
        "# Define settings for run\n",
        "\n",
        "debug=False\n",
        "\n",
        "shuffle_data=False\n",
        "\n",
        "run_train=False\n",
        "run_val=True\n",
        "\n",
        "load_saved_weights=True\n",
        "weight_file='weights/best_99.pkl'\n",
        "\n",
        "total_epoch=100\n",
        "training_acc_internal=1000"
      ]
    },
    {
      "cell_type": "code",
      "execution_count": 8,
      "metadata": {
        "id": "iAoYBSKmWKWE"
      },
      "outputs": [],
      "source": [
        "# Initialize the network layers\n",
        "\n",
        "if Dataset==\"MNIST\":\n",
        "  conv0   = Conv3x3_1_to_n_padding( output=8                        )     # 28x28x1   -> 28x28x8  (Convolution with 8 filters)\n",
        "elif Dataset==\"CIFAR\":\n",
        "  conv0   = Conv3x3_n_to_n_padding( output=8      ,   input=3       )     # 28x28x1   -> 28x28x8  (Convolution with 8 filters)\n",
        "pool0   = MaxPool2              (                                 )     # 28x28x8   -> 14x14x8  (MaxPooling 2x2)\n",
        "conv1   = Conv3x3_n_to_n_padding( output=16     ,   input=8       )     # 14x14x8   -> 14x14x16 (Convolution with 8 filters)\n",
        "pool1   = MaxPool2              (                                 )     # 14x14x16  -> 07x07x16 (MaxPooling 2x2)\n",
        "# conv2   = Conv3x3_n_to_n_padding( output=32     ,   input=16      )\n",
        "# conv3   = Conv3x3_n_to_n_padding( output=64     ,   input=32      )\n",
        "if Dataset==\"MNIST\":\n",
        "  FC_size= 7 * 7 * 16\n",
        "elif Dataset==\"CIFAR\":\n",
        "  FC_size= 8 * 8 * 16\n",
        "  \n",
        "fc0     = FC                    (  FC_size ,   FC_size      )     # 784       -> 784      (FC)\n",
        "fc1     = FC                    (  FC_size ,   10           )     # 784       -> 10       (FC)\n",
        "softmax = Softmax               (                                 )     # 14x14x8   -> 10       (Softmax)\n",
        "relu    = Relu                  (                                 )     # 14x14x8   -> 10       (Softmax)"
      ]
    },
    {
      "cell_type": "code",
      "execution_count": 9,
      "metadata": {
        "id": "EwHWdHFrWSao"
      },
      "outputs": [],
      "source": [
        "# Defining the network - Forward propagation\n",
        "def forward(im, label, debug=False):\n",
        "  im        = (im / 255) - 0.5  \n",
        "    \n",
        "  # Conv 0 with Pool\n",
        "  out_conv0 = conv0.forward   ( im            )\n",
        "  out_pool0 = pool0.forward   ( out_conv0     )\n",
        "  \n",
        "  # Conv 1 with Pool\n",
        "  out_conv1 = conv1.forward   ( out_pool0     )\n",
        "  out_pool1 = pool1.forward   ( out_conv1     )\n",
        "  \n",
        "  # Swap axes to realign for flattening\n",
        "  out_pool2 = np.swapaxes(out_pool1,0,2)\n",
        "  out_pool3 = np.swapaxes(out_pool2,1,2)\n",
        "  \n",
        "  # FC0 and Relu\n",
        "  out_fc0   = fc0.forward     ( out_pool3     )\n",
        "  \n",
        "  # FC1 and SoftMax\n",
        "  out_fc1   = fc1.forward     ( out_fc0       )\n",
        "  out_soft  = softmax.forward ( out_fc1       )\n",
        "  \n",
        "  if debug:\n",
        "    print(f\"Input Image: {im[-4]}\\n\")\n",
        "    print(f\"x_conv0 filters : {conv0.filters[0]}\\n\")\n",
        "    print(f\"x_conv0 : {out_conv0[:,:,0][-1]}\\n\")\n",
        "    print(f\"MaxPool0: {out_pool0[:,:,0][-1]}\\n\")\n",
        "    print(f\"x_conv1 filters : {conv1.filters[0,:,:,0]}\\n\")\n",
        "    print(f\"x_conv1 : {out_conv1[:,:,0][-1]}\\n\")\n",
        "    print(f\"MaxPool1: {out_pool1[:,:,0][-1]}\\n\")\n",
        "    print(f\"FC0 Weights: {fc0.weights[:,0][:10]}\\n\")\n",
        "    print(f\"FC0 output: {out_fc0[:10]}\\n\")\n",
        "    print(f\"FC1 Weights: {fc1.weights[:,0][:10]}\\n\")\n",
        "    print(f\"FC1 output: {out_fc1[:10]}\\n\")\n",
        "    print(f\"SoftMax output: {out_soft}\\n\")\n",
        "\n",
        "  return out_soft"
      ]
    },
    {
      "cell_type": "code",
      "execution_count": 10,
      "metadata": {
        "id": "IoomUOeIWg1h"
      },
      "outputs": [],
      "source": [
        "# Defining the network - Backward propagation\n",
        "def backward(label, out, loss=1, lr=0.005):\n",
        "  # Calculate initial gradient\n",
        "  gradient = np.zeros(10)\n",
        "  gradient[label] = -1 / out[label]\n",
        "  # gradient[label] = -loss / out[label]\n",
        "\n",
        "  # ------------------------------Backprop-----------------------------------\n",
        "  # SoftMax\n",
        "  gradient_softmax = softmax.backprop ( gradient                              )     \n",
        "\n",
        "  # FC1 and FC0 \n",
        "  gradient_fc1 = fc1.backprop         ( gradient_softmax  ,               lr  )\n",
        "  gradient_fc0 = fc0.backprop         ( gradient_fc1      ,               lr  )\n",
        "\n",
        "  # Swap axes to realign for flattening\n",
        "  gradient_swap0 = np.swapaxes        ( gradient_fc0      ,       1   ,   2   )\n",
        "  gradient_swap1 = np.swapaxes        ( gradient_swap0    ,       0   ,   2   )\n",
        "\n",
        "  # Conv 1 with Pool \n",
        "  gradient_pool1 = pool1.backprop     ( gradient_swap1                        )\n",
        "  gradient_conv1 = conv1.backprop     ( gradient_pool1     ,              lr  )\n",
        "\n",
        "  # Conv 0 with Pool \n",
        "  gradient_pool0 = pool0.backprop     ( gradient_conv1                        ) \n",
        "  gradient_conv0 = conv0.backprop     ( gradient_pool0     ,              lr  )\n",
        "  return None"
      ]
    },
    {
      "cell_type": "code",
      "execution_count": 11,
      "metadata": {
        "id": "yhMPrtRNXBXT"
      },
      "outputs": [],
      "source": [
        "# Defining the network - Loss Function (Cross Entropy)\n",
        "# Calculate cross-entropy loss and accuracy. np.log() is the natural log.\n",
        "def cal_loss(out_soft, label):\n",
        "  loss = -np.log(out_soft[label])\n",
        "  acc = 1 if np.argmax(out_soft) == label else 0\n",
        "  return out_soft, loss, acc"
      ]
    },
    {
      "cell_type": "code",
      "execution_count": 12,
      "metadata": {
        "id": "jbypb9x2XRej"
      },
      "outputs": [],
      "source": [
        "# Defining the network - Training Function\n",
        "def train(im, label, debug=False, lr=.005):\n",
        "  pred = forward(im, label, debug)\n",
        "  out_soft, loss, acc = cal_loss(pred, label)\n",
        "  backward(label, out_soft, loss=loss, lr=0.005)\n",
        "  return loss, acc"
      ]
    },
    {
      "cell_type": "code",
      "execution_count": 13,
      "metadata": {
        "id": "Qlrl0fzUXV_M"
      },
      "outputs": [],
      "source": [
        "# Defining the network - Validation Function\n",
        "def val(im, label):\n",
        "  pred = forward(im, label)\n",
        "  out_soft, loss, acc = cal_loss(pred, label)\n",
        "  predLabel = np.argmax(pred)\n",
        "  return loss, acc, predLabel"
      ]
    },
    {
      "cell_type": "code",
      "execution_count": 14,
      "metadata": {
        "id": "n3132AoGXzc0"
      },
      "outputs": [],
      "source": [
        "# Function definitions to save and load weight files\n",
        "\n",
        "def save_weights(name,lr=0,max_acc=0):\n",
        "  print(f\"\\nSaving new weights ({name}).\")\n",
        "  weights = dict()\n",
        "  weights[\"conv0\"]        = conv0.filters\n",
        "  weights[\"conv1\"]        = conv1.filters\n",
        "  weights[\"fc0_weights\"]  = fc0.weights\n",
        "  weights[\"fc0_biases\" ]  = fc0.biases\n",
        "  weights[\"fc1_weights\"]  = fc1.weights\n",
        "  weights[\"fc1_biases\" ]  = fc1.biases\n",
        "  weights[\"lr\" ]          = lr\n",
        "  weights[\"max_acc\"]      = max_acc\n",
        "  weight_file = open(str(name), \"wb\")\n",
        "  pickle.dump(weights, weight_file)\n",
        "  weight_file.close()\n",
        "  \n",
        "def load_weights(name):\n",
        "  if os.path.isfile(name): \n",
        "    weight_file = open(str(name), \"rb\")\n",
        "    weights = pickle.load(weight_file)\n",
        "    conv0.filters  = weights[\"conv0\"]      \n",
        "    conv1.filters  = weights[\"conv1\"]      \n",
        "    fc0.weights    = weights[\"fc0_weights\"]\n",
        "    fc0.biases     = weights[\"fc0_biases\" ]\n",
        "    fc1.weights    = weights[\"fc1_weights\"]\n",
        "    fc1.biases     = weights[\"fc1_biases\" ]\n",
        "    lr             = weights[\"lr\" ]\n",
        "    max_acc        = weights[\"max_acc\"]\n",
        "    print(f\"\\nLoading weights from {name} file. LR restored to {lr}. Last Accuracy {max_acc}%\")\n",
        "    return lr, max_acc\n",
        "  else:\n",
        "    print(\"Weights file not found.\")\n",
        "    lr=0.005\n",
        "    max_acc=0\n",
        "    return lr, max_acc\n",
        "   "
      ]
    },
    {
      "cell_type": "code",
      "execution_count": 15,
      "metadata": {
        "id": "Y1WIfF2UYstz"
      },
      "outputs": [],
      "source": [
        "# Defining the network - Adjust learning rate\n",
        "def adjust_lr(acc, lr=.005):\n",
        "  if   acc > 98: lr=0.00001\n",
        "  elif acc > 95: lr=0.0005\n",
        "  elif acc > 90: lr=0.001\n",
        "  elif acc > 80: lr=0.002\n",
        "  elif acc > 70: lr=0.003\n",
        "  elif acc > 60: lr=0.004\n",
        "  return lr"
      ]
    },
    {
      "cell_type": "code",
      "execution_count": 16,
      "metadata": {
        "colab": {
          "base_uri": "https://localhost:8080/"
        },
        "id": "1RYPUzZDYHcC",
        "outputId": "ded4c9ea-f531-43a8-889b-0e3faf2f7cb6"
      },
      "outputs": [
        {
          "name": "stdout",
          "output_type": "stream",
          "text": [
            "\n",
            "Loading weights from weights/best_99.pkl file. LR restored to 0.0005. Last Accuracy 99%\n"
          ]
        }
      ],
      "source": [
        "# Load Weights\n",
        "if load_saved_weights:\n",
        "    lr, max_acc = load_weights(weight_file)\n",
        "else:\n",
        "    lr, max_acc = 0.005, 0 \n",
        "\n",
        "if debug: save_weights(f'weights/debug.pkl', lr, max_acc)"
      ]
    },
    {
      "cell_type": "code",
      "execution_count": 17,
      "metadata": {
        "colab": {
          "base_uri": "https://localhost:8080/",
          "height": 1000
        },
        "id": "N02tnG1ZVSyk",
        "outputId": "8c1f46f4-d785-4648-ceca-5e88bd1e826a"
      },
      "outputs": [],
      "source": [
        " # Main function to run the training\n",
        "\n",
        "if run_train:\n",
        "  print(f'Training Initialized.')\n",
        "  print(f\"\\tTotal number of training   images: {len(train_labels)}\")\n",
        "  print(f\"\\tTotal number of validation images: {len(test_labels)}\")\n",
        "  print(f\"\\tTraining will run for {total_epoch} epochs.\")\n",
        "  print(f\"\\tResults will be logged after every {training_acc_internal} images.\")\n",
        "  for epoch in range(total_epoch):\n",
        "    print('\\n--- Epoch %d ---' % (epoch + 1))\n",
        "            \n",
        "    # Initialize Variables\n",
        "    loss, num_correct = 0, 0\n",
        "    for i, (im, label) in tqdm(enumerate(zip(train_images, train_labels))):\n",
        "      \n",
        "      # Logging results\n",
        "      if i % training_acc_internal == training_acc_internal-1:\n",
        "        lr = adjust_lr(num_correct)\n",
        "        print(f'\\n[Step {(i+1)}] : For {training_acc_internal} iterations, the Avg Loss is {np.round((loss / training_acc_internal),2)} | Training Acc: {num_correct/training_acc_internal} | LR: {lr}')\n",
        "        loss, num_correct = 0, 0\n",
        "          \n",
        "      # Train the network\n",
        "      l, acc = train(im, label, debug, lr=lr)\n",
        "      loss += l\n",
        "      num_correct += acc\n",
        "           \n",
        "    print(f\"End of epoch {epoch+1}\")      \n",
        "\n",
        "    print(f\"\\n\\nCalculating validation scores at the end of epoch.\")\n",
        "    loss, num_correct, predLabels, imagesList, gtLabels = 0, 0, [], [], []\n",
        "    for im, label in tqdm(zip(test_images, test_labels)):\n",
        "      l, acc, predLabel = val(im, label)\n",
        "      loss += l\n",
        "      num_correct += acc\n",
        "      predLabels.append(predLabel)\n",
        "      gtLabels.append(label)\n",
        "      imagesList.append(im)\n",
        "    num_tests = len(test_images)\n",
        "    test_loss, test_acc =  loss / num_tests , num_correct / num_tests\n",
        "    print('Test Loss:', test_loss*100+\"%\")\n",
        "    print('Test Accuracy:', test_acc)\n",
        "\n",
        "    if epoch == 0:\n",
        "      max_acc = test_acc\n",
        "    elif test_acc > max_acc: \n",
        "      max_acc = test_acc\n",
        "      save_weights(f'weights/best_{test_acc}.pkl', lr, max_acc)\n",
        "      save_weights(f'weights/last.pkl', lr, max_acc)\n",
        "\n",
        "    pyplot.close()\n",
        "    pyplot.figure(figsize=(10,10))\n",
        "    for i in range(9):\n",
        "      pyplot.subplot(330 + 1 + i)\n",
        "      pyplot.imshow(imagesList[i])\n",
        "      Str=\"Correct\" if predLabels[i]==gtLabels[i] else \"Wrong\"\n",
        "      pyplot.title(f'{Str} -- PD:{predLabels[i]} GT:{gtLabels[i]}')\n",
        "    pyplot.show()\n"
      ]
    },
    {
      "cell_type": "code",
      "execution_count": 19,
      "metadata": {
        "id": "PonPg6kBZT1J"
      },
      "outputs": [
        {
          "name": "stdout",
          "output_type": "stream",
          "text": [
            "\n",
            "--- Testing the CNN for 10000 images---\n"
          ]
        },
        {
          "name": "stderr",
          "output_type": "stream",
          "text": [
            "0it [00:00, ?it/s]\n"
          ]
        },
        {
          "ename": "IndexError",
          "evalue": "too many indices for array: array is 3-dimensional, but 4 were indexed",
          "output_type": "error",
          "traceback": [
            "\u001b[0;31m---------------------------------------------------------------------------\u001b[0m",
            "\u001b[0;31mIndexError\u001b[0m                                Traceback (most recent call last)",
            "Cell \u001b[0;32mIn[19], line 8\u001b[0m\n\u001b[1;32m      6\u001b[0m num_correct \u001b[39m=\u001b[39m \u001b[39m0\u001b[39m\n\u001b[1;32m      7\u001b[0m \u001b[39mfor\u001b[39;00m im, label \u001b[39min\u001b[39;00m tqdm(\u001b[39mzip\u001b[39m(test_images, test_labels)):\n\u001b[0;32m----> 8\u001b[0m   l, acc, predLabel \u001b[39m=\u001b[39m val(im, label)\n\u001b[1;32m      9\u001b[0m   loss \u001b[39m+\u001b[39m\u001b[39m=\u001b[39m l\n\u001b[1;32m     10\u001b[0m   num_correct \u001b[39m+\u001b[39m\u001b[39m=\u001b[39m acc\n",
            "Cell \u001b[0;32mIn[13], line 3\u001b[0m, in \u001b[0;36mval\u001b[0;34m(im, label)\u001b[0m\n\u001b[1;32m      2\u001b[0m \u001b[39mdef\u001b[39;00m \u001b[39mval\u001b[39m(im, label):\n\u001b[0;32m----> 3\u001b[0m   pred \u001b[39m=\u001b[39m forward(im, label)\n\u001b[1;32m      4\u001b[0m   out_soft, loss, acc \u001b[39m=\u001b[39m cal_loss(pred, label)\n\u001b[1;32m      5\u001b[0m   predLabel \u001b[39m=\u001b[39m np\u001b[39m.\u001b[39margmax(pred)\n",
            "Cell \u001b[0;32mIn[9], line 6\u001b[0m, in \u001b[0;36mforward\u001b[0;34m(im, label, debug)\u001b[0m\n\u001b[1;32m      3\u001b[0m im        \u001b[39m=\u001b[39m (im \u001b[39m/\u001b[39m \u001b[39m255\u001b[39m) \u001b[39m-\u001b[39m \u001b[39m0.5\u001b[39m  \n\u001b[1;32m      5\u001b[0m \u001b[39m# Conv 0 with Pool\u001b[39;00m\n\u001b[0;32m----> 6\u001b[0m out_conv0 \u001b[39m=\u001b[39m conv0\u001b[39m.\u001b[39;49mforward   ( im            )\n\u001b[1;32m      7\u001b[0m out_pool0 \u001b[39m=\u001b[39m pool0\u001b[39m.\u001b[39mforward   ( out_conv0     )\n\u001b[1;32m      9\u001b[0m \u001b[39m# Conv 1 with Pool\u001b[39;00m\n",
            "File \u001b[0;32m~/Python_CNN/conv.py:280\u001b[0m, in \u001b[0;36mConv3x3_n_to_n_padding.forward\u001b[0;34m(self, input)\u001b[0m\n\u001b[1;32m    278\u001b[0m \u001b[39mfor\u001b[39;00m im_region, i, j \u001b[39min\u001b[39;00m \u001b[39mself\u001b[39m\u001b[39m.\u001b[39miterate_regions(\u001b[39minput\u001b[39m):\n\u001b[1;32m    279\u001b[0m   \u001b[39mfor\u001b[39;00m \u001b[39mfilter\u001b[39m \u001b[39min\u001b[39;00m \u001b[39mrange\u001b[39m(\u001b[39mself\u001b[39m\u001b[39m.\u001b[39mnum_filters):\n\u001b[0;32m--> 280\u001b[0m     output[i, j, \u001b[39mfilter\u001b[39m] \u001b[39m=\u001b[39m np\u001b[39m.\u001b[39msum(im_region \u001b[39m*\u001b[39m \u001b[39mself\u001b[39;49m\u001b[39m.\u001b[39;49mfilters[\u001b[39mfilter\u001b[39;49m,:,:,:], axis\u001b[39m=\u001b[39m(\u001b[39m0\u001b[39m, \u001b[39m1\u001b[39m, \u001b[39m2\u001b[39m))\n\u001b[1;32m    283\u001b[0m \u001b[39mself\u001b[39m\u001b[39m.\u001b[39mlast_output \u001b[39m=\u001b[39m output\n\u001b[1;32m    284\u001b[0m \u001b[39mreturn\u001b[39;00m output\n",
            "\u001b[0;31mIndexError\u001b[0m: too many indices for array: array is 3-dimensional, but 4 were indexed"
          ]
        }
      ],
      "source": [
        "# Main function to validate the weights\n",
        "\n",
        "if run_val:\n",
        "  print(f'\\n--- Testing the CNN for {len(test_labels)} images---')\n",
        "  loss = 0\n",
        "  num_correct = 0\n",
        "  for im, label in tqdm(zip(test_images, test_labels)):\n",
        "    l, acc, predLabel = val(im, label)\n",
        "    loss += l\n",
        "    num_correct += acc\n",
        "    \n",
        "\n",
        "  num_tests = len(test_images)\n",
        "  print('\\nTest Loss:', loss / num_tests)\n",
        "  print('Test Accuracy:', num_correct / num_tests)"
      ]
    }
  ],
  "metadata": {
    "colab": {
      "provenance": []
    },
    "kernelspec": {
      "display_name": "Python 3.10.8 ('python_cnn')",
      "language": "python",
      "name": "python3"
    },
    "language_info": {
      "codemirror_mode": {
        "name": "ipython",
        "version": 3
      },
      "file_extension": ".py",
      "mimetype": "text/x-python",
      "name": "python",
      "nbconvert_exporter": "python",
      "pygments_lexer": "ipython3",
      "version": "3.8.15"
    },
    "vscode": {
      "interpreter": {
        "hash": "b9450f1e70c40e3e13ef2de08476fb3dcd992e7612be6477af641a838aca42a3"
      }
    }
  },
  "nbformat": 4,
  "nbformat_minor": 0
}
