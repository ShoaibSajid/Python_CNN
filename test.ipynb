{
 "cells": [
  {
   "cell_type": "code",
   "execution_count": 1,
   "metadata": {},
   "outputs": [],
   "source": [
    "import torch\n",
    "import torch.nn as nn\n",
    "import torch.nn.functional as F"
   ]
  },
  {
   "cell_type": "code",
   "execution_count": 360,
   "metadata": {},
   "outputs": [],
   "source": [
    "class Torch_Pad2d(object):\n",
    "\n",
    "  @staticmethod\n",
    "  def forward(x, pad_param):\n",
    "    N, C, H, W = x.shape\n",
    "    layer = nn.ZeroPad2d(pad_param)\n",
    "    tx = x.detach()\n",
    "    tx.requires_grad = True\n",
    "    out = layer(tx)\n",
    "    cache = (x, pad_param, tx, out, layer)\n",
    "    return out, cache\n",
    "  \n",
    "  @staticmethod\n",
    "  def backward(dout, cache):\n",
    "    try:\n",
    "      x, _, tx, out, layer = cache\n",
    "      out.backward(dout)\n",
    "      dx = tx.grad.detach()\n",
    "    except RuntimeError:\n",
    "      dx = torch.zeros_like(tx)\n",
    "    return dx"
   ]
  },
  {
   "cell_type": "code",
   "execution_count": 366,
   "metadata": {},
   "outputs": [
    {
     "name": "stdout",
     "output_type": "stream",
     "text": [
      "tensor([[[[ 0.3367,  0.1288],\n",
      "          [ 0.2345,  0.2303]],\n",
      "\n",
      "         [[-1.1229, -0.1863],\n",
      "          [ 2.2082, -0.6380]],\n",
      "\n",
      "         [[ 0.4617,  0.2674],\n",
      "          [ 0.5349,  0.8094]]]])\n"
     ]
    }
   ],
   "source": [
    "torch.manual_seed(42)\n",
    "x = torch.randn(1, 3, 2, 2)\n",
    "print(x)\n",
    "pad_param = (0, 1, 0, 1)"
   ]
  },
  {
   "cell_type": "code",
   "execution_count": 368,
   "metadata": {},
   "outputs": [
    {
     "name": "stdout",
     "output_type": "stream",
     "text": [
      "out_torch tensor([[[[ 0.3367,  0.1288,  0.0000],\n",
      "          [ 0.2345,  0.2303,  0.0000],\n",
      "          [ 0.0000,  0.0000,  0.0000]],\n",
      "\n",
      "         [[-1.1229, -0.1863,  0.0000],\n",
      "          [ 2.2082, -0.6380,  0.0000],\n",
      "          [ 0.0000,  0.0000,  0.0000]],\n",
      "\n",
      "         [[ 0.4617,  0.2674,  0.0000],\n",
      "          [ 0.5349,  0.8094,  0.0000],\n",
      "          [ 0.0000,  0.0000,  0.0000]]]], grad_fn=<ConstantPadNdBackward0>)\n",
      "dout tensor([[[[ 0.5232,  0.3466, -0.1973],\n",
      "          [-1.0546,  1.2780,  0.1453],\n",
      "          [ 0.2311,  0.0087,  0.4263]],\n",
      "\n",
      "         [[ 0.5750, -0.6417, -0.4976],\n",
      "          [ 0.4747, -2.5095,  0.4880],\n",
      "          [ 0.7846,  0.0286,  0.6408]],\n",
      "\n",
      "         [[ 0.5832,  0.2191,  0.5526],\n",
      "          [-0.1853,  0.7528,  0.4048],\n",
      "          [ 0.1785,  0.2649,  1.2732]]]])\n",
      "dx tensor([[[[ 0.5232,  0.3466],\n",
      "          [-1.0546,  1.2780]],\n",
      "\n",
      "         [[ 0.5750, -0.6417],\n",
      "          [ 0.4747, -2.5095]],\n",
      "\n",
      "         [[ 0.5832,  0.2191],\n",
      "          [-0.1853,  0.7528]]]])\n"
     ]
    }
   ],
   "source": [
    "out_torch, cache_torch = Torch_Pad2d.forward(x, pad_param)\n",
    "print(\"out_torch\", out_torch)\n",
    "dout = torch.randn(out_torch.shape)\n",
    "print(\"dout\", dout)\n",
    "dx = Torch_Pad2d.backward(dout, cache_torch)\n",
    "print(\"dx\", dx)"
   ]
  },
  {
   "cell_type": "code",
   "execution_count": 377,
   "metadata": {},
   "outputs": [],
   "source": [
    "class Python_Pad2d(object):\n",
    "    \n",
    "    @staticmethod\n",
    "    def forward(x, pad_param):\n",
    "        new_shape = tuple(\n",
    "            left + size + right\n",
    "            for size, (left, right) in zip(x.shape, pad_param)\n",
    "        )\n",
    "\n",
    "        out = torch.zeros(new_shape)\n",
    "\n",
    "\n",
    "        original_area_slice = tuple(\n",
    "            slice(left, left + size)\n",
    "            for size, (left, right) in zip(x.shape, pad_param)\n",
    "        )\n",
    "        out[original_area_slice] = x\n",
    "\n",
    "        cache = (x, pad_param)\n",
    "\n",
    "        return out, cache\n",
    "\n",
    "    @staticmethod\n",
    "    def backward(dout, cache):\n",
    "\n",
    "        dx = None\n",
    "        x, pad_param = cache\n",
    "        N, C, H, W = x.shape\n",
    "\n",
    "        dx = torch.zeros_like(x)\n",
    "\n",
    "        for n in range(N):\n",
    "            for f in range(C):          \n",
    "                for height in range(H):\n",
    "                    for width in range(W):\n",
    "                        dx[n, f, height, width] = dout[n, f, height, width]\n",
    "\n",
    "        return dx"
   ]
  },
  {
   "cell_type": "code",
   "execution_count": 378,
   "metadata": {},
   "outputs": [],
   "source": [
    "pad_param = ((0, 0), (0, 0), (0, 1), (0, 1))"
   ]
  },
  {
   "cell_type": "code",
   "execution_count": 379,
   "metadata": {},
   "outputs": [
    {
     "name": "stdout",
     "output_type": "stream",
     "text": [
      "out_torch tensor([[[[ 0.3367,  0.1288,  0.0000],\n",
      "          [ 0.2345,  0.2303,  0.0000],\n",
      "          [ 0.0000,  0.0000,  0.0000]],\n",
      "\n",
      "         [[-1.1229, -0.1863,  0.0000],\n",
      "          [ 2.2082, -0.6380,  0.0000],\n",
      "          [ 0.0000,  0.0000,  0.0000]],\n",
      "\n",
      "         [[ 0.4617,  0.2674,  0.0000],\n",
      "          [ 0.5349,  0.8094,  0.0000],\n",
      "          [ 0.0000,  0.0000,  0.0000]]]])\n",
      "dout tensor([[[[ 0.5232,  0.3466, -0.1973],\n",
      "          [-1.0546,  1.2780,  0.1453],\n",
      "          [ 0.2311,  0.0087,  0.4263]],\n",
      "\n",
      "         [[ 0.5750, -0.6417, -0.4976],\n",
      "          [ 0.4747, -2.5095,  0.4880],\n",
      "          [ 0.7846,  0.0286,  0.6408]],\n",
      "\n",
      "         [[ 0.5832,  0.2191,  0.5526],\n",
      "          [-0.1853,  0.7528,  0.4048],\n",
      "          [ 0.1785,  0.2649,  1.2732]]]])\n",
      "dx tensor([[[[ 0.5232,  0.3466],\n",
      "          [-1.0546,  1.2780]],\n",
      "\n",
      "         [[ 0.5750, -0.6417],\n",
      "          [ 0.4747, -2.5095]],\n",
      "\n",
      "         [[ 0.5832,  0.2191],\n",
      "          [-0.1853,  0.7528]]]])\n"
     ]
    }
   ],
   "source": [
    "out, cache = Python_Pad2d.forward(x, pad_param)\n",
    "print(\"out_torch\", out)\n",
    "print(\"dout\", dout)\n",
    "dx = Python_Pad2d.backward(dout, cache)\n",
    "print(\"dx\", dx)"
   ]
  },
  {
   "cell_type": "code",
   "execution_count": 295,
   "metadata": {},
   "outputs": [],
   "source": [
    "def _pad_simple(array, pad_width):\n",
    "    new_shape = tuple(\n",
    "        left + size + right\n",
    "        for size, (left, right) in zip(array.shape, pad_width)\n",
    "    )\n",
    "\n",
    "    padded = np.empty(new_shape)\n",
    "d\n",
    "    if fill_value is not None:\n",
    "        padded.fill(fill_value)\n",
    "\n",
    "        original_area_slice = tuple(\n",
    "            slice(left, left + size)\n",
    "            for size, (left, right) in zip(array.shape, pad_width)\n",
    "        )\n",
    "        padded[original_area_slice] = array\n",
    "\n",
    "        return padded, original_area_slice"
   ]
  },
  {
   "cell_type": "code",
   "execution_count": 262,
   "metadata": {},
   "outputs": [],
   "source": [
    "k = torch.randn(2, 3, 2, 2)\n",
    "pad_width = ((0, 0), (0, 0), (0, 1), (0, 1))"
   ]
  },
  {
   "cell_type": "code",
   "execution_count": 246,
   "metadata": {},
   "outputs": [],
   "source": [
    "out_k = _pad_simple(k, pad_width, 0)"
   ]
  },
  {
   "cell_type": "code",
   "execution_count": 247,
   "metadata": {},
   "outputs": [
    {
     "name": "stdout",
     "output_type": "stream",
     "text": [
      "(2, 3, 3, 3)\n",
      "(array([[[[ 2.44171505e+00,  6.18615572e-01,  0.00000000e+00],\n",
      "         [ 2.08841700e-03,  2.44440916e-01,  0.00000000e+00],\n",
      "         [ 0.00000000e+00,  0.00000000e+00,  0.00000000e+00]],\n",
      "\n",
      "        [[ 1.09291940e-01,  2.32490934e-01,  0.00000000e+00],\n",
      "         [ 5.89264476e-01, -1.39765462e-01,  0.00000000e+00],\n",
      "         [ 0.00000000e+00,  0.00000000e+00,  0.00000000e+00]],\n",
      "\n",
      "        [[ 7.41355492e-01,  1.17004340e+00,  0.00000000e+00],\n",
      "         [ 1.30424586e+00, -6.58016671e-01,  0.00000000e+00],\n",
      "         [ 0.00000000e+00,  0.00000000e+00,  0.00000000e+00]]],\n",
      "\n",
      "\n",
      "       [[[-5.88565386e-01,  1.23458492e+00,  0.00000000e+00],\n",
      "         [-6.46761769e-01, -1.44416355e+00,  0.00000000e+00],\n",
      "         [ 0.00000000e+00,  0.00000000e+00,  0.00000000e+00]],\n",
      "\n",
      "        [[ 1.60366472e+00, -1.18892979e+00,  0.00000000e+00],\n",
      "         [ 7.61895426e-01, -2.54439802e+00,  0.00000000e+00],\n",
      "         [ 0.00000000e+00,  0.00000000e+00,  0.00000000e+00]],\n",
      "\n",
      "        [[-1.52376928e+00,  1.18383429e+00,  0.00000000e+00],\n",
      "         [-2.53998784e-01, -4.63091145e-01,  0.00000000e+00],\n",
      "         [ 0.00000000e+00,  0.00000000e+00,  0.00000000e+00]]]]), (slice(0, 2, None), slice(0, 3, None), slice(0, 2, None), slice(0, 2, None)))\n"
     ]
    }
   ],
   "source": [
    "print(out_k[0].shape)\n",
    "print(out_k)"
   ]
  },
  {
   "cell_type": "code",
   "execution_count": null,
   "metadata": {},
   "outputs": [],
   "source": []
  }
 ],
 "metadata": {
  "kernelspec": {
   "display_name": "pytorch11-6",
   "language": "python",
   "name": "python3"
  },
  "language_info": {
   "codemirror_mode": {
    "name": "ipython",
    "version": 3
   },
   "file_extension": ".py",
   "mimetype": "text/x-python",
   "name": "python",
   "nbconvert_exporter": "python",
   "pygments_lexer": "ipython3",
   "version": "3.9.13"
  },
  "orig_nbformat": 4
 },
 "nbformat": 4,
 "nbformat_minor": 2
}
