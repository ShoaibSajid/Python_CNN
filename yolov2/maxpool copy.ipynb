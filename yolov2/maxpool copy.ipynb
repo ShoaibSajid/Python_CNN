{
 "cells": [
  {
   "cell_type": "code",
   "execution_count": 1,
   "metadata": {},
   "outputs": [],
   "source": [
    "%load_ext autoreload\n",
    "%autoreload 2"
   ]
  },
  {
   "cell_type": "code",
   "execution_count": 2,
   "metadata": {},
   "outputs": [],
   "source": [
    "import torch\n",
    "import torch.nn as nn"
   ]
  },
  {
   "cell_type": "code",
   "execution_count": 3,
   "metadata": {},
   "outputs": [],
   "source": [
    "class Python_MaxPool(object):\n",
    "\n",
    "    @staticmethod\n",
    "    def forward(x, pool_param, layer_no=[], save_txt=False, save_hex=False, phase=[]):\n",
    "\n",
    "        out = None\n",
    "        all_positions = []\n",
    "        positions = []\n",
    "        stride = pool_param['stride']\n",
    "        pool_width = pool_param['pool_width']\n",
    "        pool_height = pool_param['pool_height']\n",
    "        N, C, H, W = x.shape\n",
    "        H_out = int(1 + (H - pool_height) / stride)\n",
    "        W_out = int(1 + (W - pool_width) / stride)\n",
    "        out = torch.zeros((N, C, H_out, W_out), dtype=x.dtype, device=x.device)\n",
    "        for n in range(N):\n",
    "            for height in range(H_out):\n",
    "                for width in range(W_out):\n",
    "                    val, index = x[n, :, height * stride:height * stride + pool_height,\n",
    "                             width * stride:width * stride + pool_width].reshape(C, -1).max(dim=1)\n",
    "                    positions.append(index)\n",
    "                    out[n, :, height, width] = val\n",
    "            \n",
    "\n",
    "        cache = (x, pool_param)\n",
    "        positions = torch.cat(positions).squeeze().to(torch.int) # List into a Single Tensor\n",
    "        new_positions = positions.reshape(N, C, H_out, W_out)\n",
    "\n",
    "                        \n",
    "        # Sign of Max Value in MaxPooling: \n",
    "        sign = torch.zeros_like(out)\n",
    "        sign[out < 0] = 1\n",
    "\n",
    "\n",
    "        return out, cache, positions, new_positions"
   ]
  },
  {
   "cell_type": "code",
   "execution_count": 6,
   "metadata": {},
   "outputs": [
    {
     "data": {
      "text/plain": [
       "{'pool_width': 2, 'pool_height': 2, 'stride': 2}"
      ]
     },
     "execution_count": 6,
     "metadata": {},
     "output_type": "execute_result"
    }
   ],
   "source": []
  },
  {
   "cell_type": "code",
   "execution_count": 5,
   "metadata": {},
   "outputs": [
    {
     "name": "stdout",
     "output_type": "stream",
     "text": [
      "tensor([[[[ 1.9269,  1.4873,  0.9007, -2.1055],\n",
      "          [ 0.6784, -1.2345, -0.0431, -1.6047],\n",
      "          [-0.7521,  1.6487, -0.3925, -1.4036],\n",
      "          [-0.7279, -0.5594, -0.7688,  0.7624]],\n",
      "\n",
      "         [[ 1.6423, -0.1596, -0.4974,  0.4396],\n",
      "          [-0.7581,  1.0783,  0.8008,  1.6806],\n",
      "          [ 1.2791,  1.2964,  0.6105,  1.3347],\n",
      "          [-0.2316,  0.0418, -0.2516,  0.8599]]],\n",
      "\n",
      "\n",
      "        [[[-1.3847, -0.8712, -0.2234,  1.7174],\n",
      "          [ 0.3189, -0.4245,  0.3057, -0.7746],\n",
      "          [-1.5576,  0.9956, -0.8798, -0.6011],\n",
      "          [-1.2742,  2.1228, -1.2347, -0.4879]],\n",
      "\n",
      "         [[-0.9138, -0.6581,  0.0780,  0.5258],\n",
      "          [-0.4880,  1.1914, -0.8140, -0.7360],\n",
      "          [-1.4032,  0.0360, -0.0635,  0.6756],\n",
      "          [-0.0978,  1.8446, -1.1845,  1.3835]]]])\n",
      "tensor([[[[ 1.9269,  0.9007],\n",
      "          [ 1.6487,  0.7624]],\n",
      "\n",
      "         [[ 1.6423,  1.6806],\n",
      "          [ 1.2964,  1.3347]]],\n",
      "\n",
      "\n",
      "        [[[ 0.3189,  1.7174],\n",
      "          [ 2.1228, -0.4879]],\n",
      "\n",
      "         [[ 1.1914,  0.5258],\n",
      "          [ 1.8446,  1.3835]]]]) \n",
      " tensor([0, 0, 0, 3, 1, 1, 3, 1, 2, 3, 1, 1, 3, 3, 3, 3], dtype=torch.int32) \n",
      " tensor([[[[0, 0],\n",
      "          [0, 3]],\n",
      "\n",
      "         [[1, 1],\n",
      "          [3, 1]]],\n",
      "\n",
      "\n",
      "        [[[2, 3],\n",
      "          [1, 1]],\n",
      "\n",
      "         [[3, 3],\n",
      "          [3, 3]]]], dtype=torch.int32)\n"
     ]
    }
   ],
   "source": [
    "torch.manual_seed(42)\n",
    "x = torch.randn(2, 2, 4, 4)\n",
    "pool_param = {'pool_width': 2, 'pool_height': 2, 'stride': 2}\n",
    "print(x)\n",
    "y1, _cache, positions, new_positions = Python_MaxPool.forward(x, pool_param)\n",
    "print(y1, '\\n', positions, '\\n', new_positions)"
   ]
  },
  {
   "cell_type": "code",
   "execution_count": 42,
   "metadata": {},
   "outputs": [],
   "source": [
    "h_out, w_out = 3, 3"
   ]
  },
  {
   "cell_type": "code",
   "execution_count": 43,
   "metadata": {},
   "outputs": [
    {
     "name": "stdout",
     "output_type": "stream",
     "text": [
      "(tensor([0, 3, 1], dtype=torch.int32), tensor([1, 3, 1], dtype=torch.int32), tensor([3, 3], dtype=torch.int32))\n"
     ]
    }
   ],
   "source": [
    "test2 = new_positions[:, :, :, 1].view(-1).tensor_split(3)\n",
    "print(test2)"
   ]
  },
  {
   "cell_type": "code",
   "execution_count": 44,
   "metadata": {},
   "outputs": [
    {
     "name": "stdout",
     "output_type": "stream",
     "text": [
      "(tensor([0, 0, 1], dtype=torch.int32), tensor([3, 2, 1], dtype=torch.int32), tensor([3, 3], dtype=torch.int32))\n"
     ]
    }
   ],
   "source": [
    "test1 = new_positions[:, :, :, 0].view(-1).tensor_split(3)\n",
    "print(test1)"
   ]
  },
  {
   "cell_type": "code",
   "execution_count": 45,
   "metadata": {},
   "outputs": [],
   "source": [
    "final = torch.cat([test1[0], test2[0], test1[1], test2[1]])"
   ]
  },
  {
   "cell_type": "code",
   "execution_count": 46,
   "metadata": {},
   "outputs": [
    {
     "name": "stdout",
     "output_type": "stream",
     "text": [
      "tensor([0, 0, 1, 0, 3, 1, 3, 2, 1, 1, 3, 1], dtype=torch.int32)\n"
     ]
    }
   ],
   "source": [
    "print(final)"
   ]
  },
  {
   "cell_type": "code",
   "execution_count": 47,
   "metadata": {},
   "outputs": [
    {
     "name": "stdout",
     "output_type": "stream",
     "text": [
      "tensor([[[[ 1.9269,  1.4873,  0.9007, -2.1055],\n",
      "          [ 0.6784, -1.2345, -0.0431, -1.6047],\n",
      "          [-0.7521,  1.6487, -0.3925, -1.4036],\n",
      "          [-0.7279, -0.5594, -0.7688,  0.7624]],\n",
      "\n",
      "         [[ 1.6423, -0.1596, -0.4974,  0.4396],\n",
      "          [-0.7581,  1.0783,  0.8008,  1.6806],\n",
      "          [ 1.2791,  1.2964,  0.6105,  1.3347],\n",
      "          [-0.2316,  0.0418, -0.2516,  0.8599]]],\n",
      "\n",
      "\n",
      "        [[[-1.3847, -0.8712, -0.2234,  1.7174],\n",
      "          [ 0.3189, -0.4245,  0.3057, -0.7746],\n",
      "          [-1.5576,  0.9956, -0.8798, -0.6011],\n",
      "          [-1.2742,  2.1228, -1.2347, -0.4879]],\n",
      "\n",
      "         [[-0.9138, -0.6581,  0.0780,  0.5258],\n",
      "          [-0.4880,  1.1914, -0.8140, -0.7360],\n",
      "          [-1.4032,  0.0360, -0.0635,  0.6756],\n",
      "          [-0.0978,  1.8446, -1.1845,  1.3835]]]])\n",
      "tensor([[[[ 1.9269,  0.9007],\n",
      "          [ 1.6487,  0.7624]],\n",
      "\n",
      "         [[ 1.6423,  1.6806],\n",
      "          [ 1.2964,  1.3347]]],\n",
      "\n",
      "\n",
      "        [[[ 0.3189,  1.7174],\n",
      "          [ 2.1228, -0.4879]],\n",
      "\n",
      "         [[ 1.1914,  0.5258],\n",
      "          [ 1.8446,  1.3835]]]]) \n",
      " tensor([0, 0, 0, 3, 1, 1, 3, 1, 2, 3, 1, 1, 3, 3, 3, 3], dtype=torch.int32) \n",
      " tensor([[[[0, 0],\n",
      "          [0, 3]],\n",
      "\n",
      "         [[1, 1],\n",
      "          [3, 1]]],\n",
      "\n",
      "\n",
      "        [[[2, 3],\n",
      "          [1, 1]],\n",
      "\n",
      "         [[3, 3],\n",
      "          [3, 3]]]], dtype=torch.int32)\n"
     ]
    }
   ],
   "source": [
    "torch.manual_seed(42)\n",
    "x = torch.randn(2, 2, 4, 4)\n",
    "pool_param = {'pool_width': 2, 'pool_height': 2, 'stride': 2}\n",
    "print(x)\n",
    "y1, _, positions, new_positions = Python_MaxPool.forward(x, pool_param)\n",
    "print(y1, '\\n', positions, '\\n', new_positions)"
   ]
  },
  {
   "cell_type": "code",
   "execution_count": 63,
   "metadata": {},
   "outputs": [
    {
     "name": "stdout",
     "output_type": "stream",
     "text": [
      "tensor([[[[ 0.6014,  0.1087, -0.4499,  0.7841,  0.6550, -0.3062],\n",
      "          [ 1.3935,  0.0631, -1.2514,  1.2745,  0.4777, -0.4516],\n",
      "          [ 0.1392, -1.5146,  0.2888,  0.5565, -0.4415, -1.5009],\n",
      "          [ 1.2530, -0.6902,  0.2395,  1.3365, -0.5728,  0.5368],\n",
      "          [ 0.4898, -1.2608, -0.3192,  0.3207, -0.1966, -0.7767],\n",
      "          [-1.4657, -1.0870, -1.0364,  0.3204, -1.0311,  0.7873]],\n",
      "\n",
      "         [[-1.3096, -0.3365, -1.2034,  1.5051, -0.2974,  0.3986],\n",
      "          [ 0.4957,  0.8755,  0.5996,  0.1281,  0.2540, -0.3113],\n",
      "          [-1.1712, -1.0707,  1.5110, -1.4429, -0.3396, -1.6925],\n",
      "          [-0.3451,  1.3243,  0.1380, -0.7729,  0.9246,  0.5713],\n",
      "          [ 0.2663, -0.3831,  0.7125, -2.7313, -0.1294, -2.4284],\n",
      "          [-1.8523,  0.0190, -1.2144,  0.8610,  0.2427,  0.9375]]],\n",
      "\n",
      "\n",
      "        [[[ 0.3038,  1.2356,  0.6882, -0.6691, -0.6764, -0.6189],\n",
      "          [ 0.6844, -0.1688,  1.6709, -1.4104, -0.1584,  1.3174],\n",
      "          [ 1.8679, -0.2671,  0.0272, -1.2297, -0.7697, -0.0064],\n",
      "          [ 0.7389, -1.3731, -0.6959, -1.0619, -0.4985, -1.1778],\n",
      "          [-0.7839, -1.0810,  2.7819,  1.4776,  0.1453, -0.8209],\n",
      "          [-0.5717,  0.1733,  0.6020,  1.4073,  0.5747, -0.4975]],\n",
      "\n",
      "         [[ 1.1827, -0.0099,  1.2633, -0.1166, -1.3918,  0.7168],\n",
      "          [-0.2493, -1.1296,  1.0124,  1.6338, -1.3902,  0.3388],\n",
      "          [-0.4852,  1.6799, -0.5725, -0.3427,  0.7251, -1.0119],\n",
      "          [-1.0437,  0.7891,  0.4535, -0.5453, -1.8698, -0.5543],\n",
      "          [ 0.4214,  0.9682, -0.9452,  1.9558,  0.9899,  1.0497],\n",
      "          [ 1.0668, -1.0889, -1.4327, -2.1288, -0.0278, -0.6627]]],\n",
      "\n",
      "\n",
      "        [[[-1.5991, -0.3089,  0.9683,  0.9003,  0.1276,  1.1966],\n",
      "          [-1.0991,  2.4193, -0.2743,  0.5203,  1.4687, -1.5158],\n",
      "          [ 1.8885,  0.2369, -0.9065, -1.0705, -0.9925, -0.2472],\n",
      "          [ 0.3151,  0.5492, -0.1051,  0.1518, -1.7900, -1.6980],\n",
      "          [ 0.2784, -1.5637,  1.1758,  1.1044, -1.8674, -0.0195],\n",
      "          [ 1.5247, -0.3572, -1.2298,  0.5542,  1.2292, -0.9045]],\n",
      "\n",
      "         [[ 0.0029, -0.3190,  0.0113,  0.1912,  0.9945,  1.1808],\n",
      "          [-0.2244, -2.0326,  0.3308, -0.9452, -1.7237, -0.9717],\n",
      "          [-1.5123, -1.5015, -0.6349, -1.5596, -1.1296,  0.0536],\n",
      "          [ 1.3157,  1.9012, -1.6604,  1.8690,  1.2039, -1.5796],\n",
      "          [ 0.8267,  0.5919, -0.8524, -1.7183, -0.3855,  0.4457],\n",
      "          [-0.3832,  0.1361, -0.4884,  1.2320,  0.3998, -2.3882]]]])\n",
      "tensor([[[[ 1.3935,  1.2745,  0.6550],\n",
      "          [ 1.2530,  1.3365,  0.5368],\n",
      "          [ 0.4898,  0.3207,  0.7873]],\n",
      "\n",
      "         [[ 0.8755,  1.5051,  0.3986],\n",
      "          [ 1.3243,  1.5110,  0.9246],\n",
      "          [ 0.2663,  0.8610,  0.9375]]],\n",
      "\n",
      "\n",
      "        [[[ 1.2356,  1.6709,  1.3174],\n",
      "          [ 1.8679,  0.0272, -0.0064],\n",
      "          [ 0.1733,  2.7819,  0.5747]],\n",
      "\n",
      "         [[ 1.1827,  1.6338,  0.7168],\n",
      "          [ 1.6799,  0.4535,  0.7251],\n",
      "          [ 1.0668,  1.9558,  1.0497]]],\n",
      "\n",
      "\n",
      "        [[[ 2.4193,  0.9683,  1.4687],\n",
      "          [ 1.8885,  0.1518, -0.2472],\n",
      "          [ 1.5247,  1.1758,  1.2292]],\n",
      "\n",
      "         [[ 0.0029,  0.3308,  1.1808],\n",
      "          [ 1.9012,  1.8690,  1.2039],\n",
      "          [ 0.8267,  1.2320,  0.4457]]]]) \n",
      " tensor([2, 3, 3, 1, 0, 1, 2, 3, 3, 0, 3, 2, 0, 0, 1, 3, 3, 3, 1, 0, 2, 3, 3, 1,\n",
      "        0, 1, 0, 2, 1, 0, 3, 2, 0, 1, 2, 1, 3, 0, 0, 2, 2, 1, 0, 3, 3, 3, 1, 2,\n",
      "        2, 0, 0, 3, 2, 1], dtype=torch.int32) \n",
      " tensor([[[[2, 3, 3],\n",
      "          [1, 0, 1],\n",
      "          [2, 3, 3]],\n",
      "\n",
      "         [[0, 3, 2],\n",
      "          [0, 0, 1],\n",
      "          [3, 3, 3]]],\n",
      "\n",
      "\n",
      "        [[[1, 0, 2],\n",
      "          [3, 3, 1],\n",
      "          [0, 1, 0]],\n",
      "\n",
      "         [[2, 1, 0],\n",
      "          [3, 2, 0],\n",
      "          [1, 2, 1]]],\n",
      "\n",
      "\n",
      "        [[[3, 0, 0],\n",
      "          [2, 2, 1],\n",
      "          [0, 3, 3]],\n",
      "\n",
      "         [[3, 1, 2],\n",
      "          [2, 0, 0],\n",
      "          [3, 2, 1]]]], dtype=torch.int32)\n"
     ]
    }
   ],
   "source": [
    "torch.manual_seed(33)\n",
    "x = torch.randn(3, 2, 6, 6)\n",
    "pool_param = {'pool_width': 2, 'pool_height': 2, 'stride': 2}\n",
    "print(x)\n",
    "y1, _, positions, new_positions = Python_MaxPool.forward(x, pool_param)\n",
    "print(y1, '\\n', positions, '\\n', new_positions)"
   ]
  },
  {
   "cell_type": "code",
   "execution_count": 62,
   "metadata": {},
   "outputs": [
    {
     "ename": "IndexError",
     "evalue": "too many indices for tensor of dimension 3",
     "output_type": "error",
     "traceback": [
      "\u001b[0;31m---------------------------------------------------------------------------\u001b[0m",
      "\u001b[0;31mIndexError\u001b[0m                                Traceback (most recent call last)",
      "Cell \u001b[0;32mIn[62], line 1\u001b[0m\n\u001b[0;32m----> 1\u001b[0m new_positions \u001b[39m=\u001b[39m new_positions[:, :, :, \u001b[39m0\u001b[39;49m]\u001b[39m.\u001b[39mview(\u001b[39m-\u001b[39m\u001b[39m1\u001b[39m)\n\u001b[1;32m      2\u001b[0m \u001b[39mprint\u001b[39m(new_positions, new_positions\u001b[39m.\u001b[39mshape)\n",
      "\u001b[0;31mIndexError\u001b[0m: too many indices for tensor of dimension 3"
     ]
    }
   ],
   "source": [
    "new_positions = new_positions[:, :, :, 0].view(-1)\n",
    "print(new_positions, new_positions.shape)"
   ]
  },
  {
   "cell_type": "code",
   "execution_count": 64,
   "metadata": {},
   "outputs": [
    {
     "name": "stdout",
     "output_type": "stream",
     "text": [
      "(tensor([3, 0, 3, 3, 0, 3], dtype=torch.int32), tensor([0, 3, 1, 1, 2, 2], dtype=torch.int32), tensor([0, 2, 3, 1, 0, 2], dtype=torch.int32))\n"
     ]
    }
   ],
   "source": [
    "test1 = new_positions[:, :, :, 1].view(-1).tensor_split(3)\n",
    "print(test1)"
   ]
  },
  {
   "cell_type": "code",
   "execution_count": 65,
   "metadata": {},
   "outputs": [
    {
     "name": "stdout",
     "output_type": "stream",
     "text": [
      "(tensor([3, 0, 3, 3, 0, 3], dtype=torch.int32), tensor([0, 3, 1, 1, 2, 2], dtype=torch.int32), tensor([0, 2, 3, 1, 0, 2], dtype=torch.int32))\n"
     ]
    }
   ],
   "source": [
    "test2 = new_positions[:, :, :, 1].view(-1).tensor_split(3)\n",
    "print(test2)"
   ]
  },
  {
   "cell_type": "code",
   "execution_count": 66,
   "metadata": {},
   "outputs": [
    {
     "name": "stdout",
     "output_type": "stream",
     "text": [
      "(tensor([3, 1, 3, 2, 1, 3], dtype=torch.int32), tensor([2, 1, 0, 0, 0, 1], dtype=torch.int32), tensor([0, 1, 3, 2, 0, 1], dtype=torch.int32))\n"
     ]
    }
   ],
   "source": [
    "test3 = new_positions[:, :, :, 2].view(-1).tensor_split(3)\n",
    "print(test3)"
   ]
  },
  {
   "cell_type": "code",
   "execution_count": null,
   "metadata": {},
   "outputs": [],
   "source": [
    "final_pos = torch.cat([[k[i] for i in ]])"
   ]
  },
  {
   "cell_type": "code",
   "execution_count": null,
   "metadata": {},
   "outputs": [],
   "source": [
    "final = torch.cat([test1[0], test2[0], test3[0], test1[1], test2[1], test2[1], test3[0], test3[1], test3[2]])"
   ]
  },
  {
   "cell_type": "code",
   "execution_count": null,
   "metadata": {},
   "outputs": [],
   "source": []
  }
 ],
 "metadata": {
  "kernelspec": {
   "display_name": "software_yolov2tiny",
   "language": "python",
   "name": "python3"
  },
  "language_info": {
   "codemirror_mode": {
    "name": "ipython",
    "version": 3
   },
   "file_extension": ".py",
   "mimetype": "text/x-python",
   "name": "python",
   "nbconvert_exporter": "python",
   "pygments_lexer": "ipython3",
   "version": "3.8.10"
  },
  "orig_nbformat": 4
 },
 "nbformat": 4,
 "nbformat_minor": 2
}
