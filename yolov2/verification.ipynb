{
 "cells": [
  {
   "cell_type": "code",
   "execution_count": 2,
   "metadata": {},
   "outputs": [],
   "source": [
    "%load_ext autoreload\n",
    "%autoreload 2"
   ]
  },
  {
   "cell_type": "code",
   "execution_count": 3,
   "metadata": {},
   "outputs": [
    {
     "name": "stderr",
     "output_type": "stream",
     "text": [
      "/home/gpuadmin/anaconda3/envs/software_yolov2tiny/lib/python3.10/site-packages/tqdm/auto.py:21: TqdmWarning: IProgress not found. Please update jupyter and ipywidgets. See https://ipywidgets.readthedocs.io/en/stable/user_install.html\n",
      "  from .autonotebook import tqdm as notebook_tqdm\n"
     ]
    }
   ],
   "source": [
    "import torch"
   ]
  },
  {
   "cell_type": "code",
   "execution_count": 4,
   "metadata": {},
   "outputs": [],
   "source": [
    "from cnn_python_latest_LightNorm import DeepConvNet\n",
    "from cnn_torch_latest_LightNorm import DeepConvNetTorch\n",
    "from cnn_python_latest_LightNorm import WeightLoader, Yolov2"
   ]
  },
  {
   "cell_type": "code",
   "execution_count": 5,
   "metadata": {},
   "outputs": [
    {
     "data": {
      "text/plain": [
       "<torch._C.Generator at 0x7f6dd82ddf30>"
      ]
     },
     "execution_count": 5,
     "metadata": {},
     "output_type": "execute_result"
    }
   ],
   "source": [
    "torch.manual_seed(42)"
   ]
  },
  {
   "cell_type": "code",
   "execution_count": 6,
   "metadata": {},
   "outputs": [],
   "source": [
    "python_model = DeepConvNet(input_dims=(3, 416, 416),\n",
    "                                 num_filters=[16, 32, 64, 128, 256, 512, 1024, 1024],\n",
    "                                 max_pools=[0, 1, 2, 3, 4],\n",
    "                                 weight_scale='kaiming',\n",
    "                                 batchnorm=True,\n",
    "                                 dtype=torch.float32, device='cpu')"
   ]
  },
  {
   "cell_type": "code",
   "execution_count": 7,
   "metadata": {},
   "outputs": [],
   "source": [
    "pytorch_model = DeepConvNetTorch(input_dims=(3, 416, 416),\n",
    "                                 num_filters=[16, 32, 64, 128, 256, 512, 1024, 1024],\n",
    "                                 max_pools=[0, 1, 2, 3, 4],\n",
    "                                 weight_scale='kaiming',\n",
    "                                 batchnorm=True,\n",
    "                                 dtype=torch.float32, device='cpu')"
   ]
  },
  {
   "cell_type": "code",
   "execution_count": 8,
   "metadata": {},
   "outputs": [],
   "source": [
    "yolo = Yolov2()\n",
    "weightloader = WeightLoader()\n",
    "pytorch_model = weightloader.load(python_model, yolo, './data/pretrained/yolov2-tiny-voc.weights')\n",
    "pytorch_model = weightloader.load(pytorch_model, yolo, './data/pretrained/yolov2-tiny-voc.weights')"
   ]
  },
  {
   "cell_type": "code",
   "execution_count": 9,
   "metadata": {},
   "outputs": [
    {
     "name": "stdout",
     "output_type": "stream",
     "text": [
      "\n",
      "This is python-based forward propagation code\n",
      "\n"
     ]
    }
   ],
   "source": [
    "x = torch.randn(8, 3, 416, 416)\n",
    "y1, _, _ = python_model.forward(x)\n",
    "y2, _, _ = pytorch_model.forward(x)"
   ]
  },
  {
   "cell_type": "code",
   "execution_count": null,
   "metadata": {},
   "outputs": [],
   "source": []
  },
  {
   "cell_type": "code",
   "execution_count": null,
   "metadata": {},
   "outputs": [],
   "source": []
  }
 ],
 "metadata": {
  "kernelspec": {
   "display_name": "software_yolov2tiny",
   "language": "python",
   "name": "python3"
  },
  "language_info": {
   "codemirror_mode": {
    "name": "ipython",
    "version": 3
   },
   "file_extension": ".py",
   "mimetype": "text/x-python",
   "name": "python",
   "nbconvert_exporter": "python",
   "pygments_lexer": "ipython3",
   "version": "3.10.12"
  },
  "orig_nbformat": 4
 },
 "nbformat": 4,
 "nbformat_minor": 2
}
